{
 "cells": [
  {
   "cell_type": "markdown",
   "metadata": {},
   "source": [
    "<a id='intro'></a>\n",
    "## Ford Go Bike Dataset Analysis "
   ]
  },
  {
   "cell_type": "markdown",
   "metadata": {},
   "source": [
    "\n",
    "Ford Go Bike Dateset contains data of bike service trips.for example duration of the trips,start and end time, start and end stations names and customer types."
   ]
  },
  {
   "cell_type": "markdown",
   "metadata": {},
   "source": [
    "<a id='intro'></a>\n",
    "## Main Finding"
   ]
  },
  {
   "cell_type": "markdown",
   "metadata": {},
   "source": [
    "-Friday Has the largest number od trips while sunday has the lowest number"
   ]
  },
  {
   "cell_type": "markdown",
   "metadata": {},
   "source": [
    "-Most Trip take about 1 Km "
   ]
  },
  {
   "cell_type": "markdown",
   "metadata": {},
   "source": [
    "-Most Trip take about 1000 second "
   ]
  },
  {
   "cell_type": "markdown",
   "metadata": {},
   "source": [
    "-17 Has the largest number od trips while 3 and 4 has the lowest number of trips. "
   ]
  },
  {
   "cell_type": "markdown",
   "metadata": {},
   "source": [
    "-Subscriber has higher number of trips "
   ]
  },
  {
   "cell_type": "markdown",
   "metadata": {},
   "source": [
    "-Bike sharing option is not popular."
   ]
  },
  {
   "cell_type": "markdown",
   "metadata": {},
   "source": [
    "-A lot of Subscriber trips a longer than customer trips."
   ]
  },
  {
   "cell_type": "markdown",
   "metadata": {},
   "source": [
    "-A lot of Customer trips has a longer duration than customer trip."
   ]
  },
  {
   "cell_type": "markdown",
   "metadata": {},
   "source": [
    "-Customers with no bake share option took the most time."
   ]
  },
  {
   "cell_type": "markdown",
   "metadata": {},
   "source": [
    "-Day 30 has the most number of trips with less than 500 second in bike option and less 1000 with no bike option "
   ]
  },
  {
   "cell_type": "markdown",
   "metadata": {},
   "source": [
    "-Day 18 has the most number of trips with less than 500 second in bike option and less 1000 with no bike option on 9 and 18  "
   ]
  },
  {
   "cell_type": "markdown",
   "metadata": {},
   "source": [
    "-On saturday and sunday there is a big duration diffrence between people with bike share option and people without  "
   ]
  },
  {
   "cell_type": "markdown",
   "metadata": {},
   "source": [
    "<a id='intro'></a>\n",
    "## Main Finding From Presentation "
   ]
  },
  {
   "cell_type": "markdown",
   "metadata": {},
   "source": [
    "The biking trips durations disterbution is skwed most of the users takes about 1000 second."
   ]
  },
  {
   "cell_type": "markdown",
   "metadata": {},
   "source": [
    "The Number of diffrent users type, subscribers where 4 times more tham regular customers "
   ]
  },
  {
   "cell_type": "markdown",
   "metadata": {},
   "source": [
    "Customer without bike sharing took the longer time followed by subscriber with bike sharing option and lastly subscriber without sharing option "
   ]
  },
  {
   "cell_type": "markdown",
   "metadata": {},
   "source": [
    "<a id='intro'></a>\n",
    "## Resources"
   ]
  },
  {
   "cell_type": "markdown",
   "metadata": {},
   "source": [
    "to calculate distance: https://www.movable-type.co.uk/scripts/latlong.html\n"
   ]
  }
 ],
 "metadata": {
  "kernelspec": {
   "display_name": "Python 3",
   "language": "python",
   "name": "python3"
  },
  "language_info": {
   "codemirror_mode": {
    "name": "ipython",
    "version": 3
   },
   "file_extension": ".py",
   "mimetype": "text/x-python",
   "name": "python",
   "nbconvert_exporter": "python",
   "pygments_lexer": "ipython3",
   "version": "3.7.3"
  }
 },
 "nbformat": 4,
 "nbformat_minor": 2
}
