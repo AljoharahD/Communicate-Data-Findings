{
 "cells": [
  {
   "cell_type": "markdown",
   "metadata": {},
   "source": [
    "<a id='intro'></a>\n",
    "## Ford Go Bike Dataset Analysis "
   ]
  },
  {
   "cell_type": "markdown",
   "metadata": {},
   "source": [
    "Import Libraries "
   ]
  },
  {
   "cell_type": "code",
   "execution_count": 215,
   "metadata": {},
   "outputs": [],
   "source": [
    "#import libraries\n",
    "\n",
    "import pandas as pd\n",
    "import numpy as np\n",
    "import matplotlib.pyplot as plt\n",
    "import seaborn as sns\n",
    "from requests import get\n",
    "from zipfile import ZipFile\n",
    "from io import StringIO, BytesIO\n",
    "import seaborn as sb\n",
    "%matplotlib inline"
   ]
  },
  {
   "cell_type": "markdown",
   "metadata": {},
   "source": [
    "Read Data file"
   ]
  },
  {
   "cell_type": "code",
   "execution_count": 157,
   "metadata": {},
   "outputs": [],
   "source": [
    "#read csv file\n",
    "df = pd.read_csv('201806-fordgobike-tripdata.csv')\n"
   ]
  },
  {
   "cell_type": "markdown",
   "metadata": {},
   "source": [
    "<a id='intro'></a>\n",
    "## Data Assesment"
   ]
  },
  {
   "cell_type": "code",
   "execution_count": 158,
   "metadata": {},
   "outputs": [
    {
     "data": {
      "text/html": [
       "<div>\n",
       "<style scoped>\n",
       "    .dataframe tbody tr th:only-of-type {\n",
       "        vertical-align: middle;\n",
       "    }\n",
       "\n",
       "    .dataframe tbody tr th {\n",
       "        vertical-align: top;\n",
       "    }\n",
       "\n",
       "    .dataframe thead th {\n",
       "        text-align: right;\n",
       "    }\n",
       "</style>\n",
       "<table border=\"1\" class=\"dataframe\">\n",
       "  <thead>\n",
       "    <tr style=\"text-align: right;\">\n",
       "      <th></th>\n",
       "      <th>duration_sec</th>\n",
       "      <th>start_time</th>\n",
       "      <th>end_time</th>\n",
       "      <th>start_station_id</th>\n",
       "      <th>start_station_name</th>\n",
       "      <th>start_station_latitude</th>\n",
       "      <th>start_station_longitude</th>\n",
       "      <th>end_station_id</th>\n",
       "      <th>end_station_name</th>\n",
       "      <th>end_station_latitude</th>\n",
       "      <th>end_station_longitude</th>\n",
       "      <th>bike_id</th>\n",
       "      <th>user_type</th>\n",
       "      <th>bike_share_for_all_trip</th>\n",
       "    </tr>\n",
       "  </thead>\n",
       "  <tbody>\n",
       "    <tr>\n",
       "      <th>35280</th>\n",
       "      <td>747</td>\n",
       "      <td>2018-06-26 07:31:58.5930</td>\n",
       "      <td>2018-06-26 07:44:26.2730</td>\n",
       "      <td>321.0</td>\n",
       "      <td>5th at Folsom</td>\n",
       "      <td>37.780146</td>\n",
       "      <td>-122.403071</td>\n",
       "      <td>58.0</td>\n",
       "      <td>Market St at 10th St</td>\n",
       "      <td>37.776619</td>\n",
       "      <td>-122.417385</td>\n",
       "      <td>1180</td>\n",
       "      <td>Subscriber</td>\n",
       "      <td>No</td>\n",
       "    </tr>\n",
       "    <tr>\n",
       "      <th>6705</th>\n",
       "      <td>589</td>\n",
       "      <td>2018-06-29 17:15:00.6200</td>\n",
       "      <td>2018-06-29 17:24:49.9450</td>\n",
       "      <td>59.0</td>\n",
       "      <td>S Van Ness Ave at Market St</td>\n",
       "      <td>37.774814</td>\n",
       "      <td>-122.418954</td>\n",
       "      <td>5.0</td>\n",
       "      <td>Powell St BART Station (Market St at 5th St)</td>\n",
       "      <td>37.783899</td>\n",
       "      <td>-122.408445</td>\n",
       "      <td>1730</td>\n",
       "      <td>Subscriber</td>\n",
       "      <td>No</td>\n",
       "    </tr>\n",
       "    <tr>\n",
       "      <th>168145</th>\n",
       "      <td>1020</td>\n",
       "      <td>2018-06-05 15:54:04.1080</td>\n",
       "      <td>2018-06-05 16:11:04.3020</td>\n",
       "      <td>93.0</td>\n",
       "      <td>4th St at Mission Bay Blvd S</td>\n",
       "      <td>37.770407</td>\n",
       "      <td>-122.391198</td>\n",
       "      <td>75.0</td>\n",
       "      <td>Market St at Franklin St</td>\n",
       "      <td>37.773793</td>\n",
       "      <td>-122.421239</td>\n",
       "      <td>586</td>\n",
       "      <td>Subscriber</td>\n",
       "      <td>No</td>\n",
       "    </tr>\n",
       "    <tr>\n",
       "      <th>43300</th>\n",
       "      <td>157</td>\n",
       "      <td>2018-06-25 06:41:50.6600</td>\n",
       "      <td>2018-06-25 06:44:28.6040</td>\n",
       "      <td>50.0</td>\n",
       "      <td>2nd St at Townsend St</td>\n",
       "      <td>37.780526</td>\n",
       "      <td>-122.390288</td>\n",
       "      <td>81.0</td>\n",
       "      <td>Berry St at 4th St</td>\n",
       "      <td>37.775880</td>\n",
       "      <td>-122.393170</td>\n",
       "      <td>3906</td>\n",
       "      <td>Subscriber</td>\n",
       "      <td>No</td>\n",
       "    </tr>\n",
       "    <tr>\n",
       "      <th>17887</th>\n",
       "      <td>249</td>\n",
       "      <td>2018-06-28 09:17:53.5560</td>\n",
       "      <td>2018-06-28 09:22:03.3350</td>\n",
       "      <td>239.0</td>\n",
       "      <td>Bancroft Way at Telegraph Ave</td>\n",
       "      <td>37.868813</td>\n",
       "      <td>-122.258764</td>\n",
       "      <td>245.0</td>\n",
       "      <td>Downtown Berkeley BART</td>\n",
       "      <td>37.870348</td>\n",
       "      <td>-122.267764</td>\n",
       "      <td>508</td>\n",
       "      <td>Subscriber</td>\n",
       "      <td>No</td>\n",
       "    </tr>\n",
       "    <tr>\n",
       "      <th>163422</th>\n",
       "      <td>459</td>\n",
       "      <td>2018-06-06 08:32:25.5260</td>\n",
       "      <td>2018-06-06 08:40:04.7120</td>\n",
       "      <td>3.0</td>\n",
       "      <td>Powell St BART Station (Market St at 4th St)</td>\n",
       "      <td>37.786375</td>\n",
       "      <td>-122.404904</td>\n",
       "      <td>64.0</td>\n",
       "      <td>5th St at Brannan St</td>\n",
       "      <td>37.776754</td>\n",
       "      <td>-122.399018</td>\n",
       "      <td>156</td>\n",
       "      <td>Subscriber</td>\n",
       "      <td>No</td>\n",
       "    </tr>\n",
       "    <tr>\n",
       "      <th>43806</th>\n",
       "      <td>371</td>\n",
       "      <td>2018-06-24 20:23:49.2620</td>\n",
       "      <td>2018-06-24 20:30:00.8770</td>\n",
       "      <td>167.0</td>\n",
       "      <td>College Ave at Harwood Ave</td>\n",
       "      <td>37.848152</td>\n",
       "      <td>-122.252160</td>\n",
       "      <td>206.0</td>\n",
       "      <td>College Ave at Bryant Ave</td>\n",
       "      <td>37.838127</td>\n",
       "      <td>-122.251271</td>\n",
       "      <td>308</td>\n",
       "      <td>Subscriber</td>\n",
       "      <td>Yes</td>\n",
       "    </tr>\n",
       "    <tr>\n",
       "      <th>187021</th>\n",
       "      <td>2734</td>\n",
       "      <td>2018-06-02 13:22:10.7950</td>\n",
       "      <td>2018-06-02 14:07:45.4580</td>\n",
       "      <td>29.0</td>\n",
       "      <td>O'Farrell St at Divisadero St</td>\n",
       "      <td>37.782405</td>\n",
       "      <td>-122.439446</td>\n",
       "      <td>53.0</td>\n",
       "      <td>Grove St at Divisadero</td>\n",
       "      <td>37.775946</td>\n",
       "      <td>-122.437777</td>\n",
       "      <td>3985</td>\n",
       "      <td>Subscriber</td>\n",
       "      <td>Yes</td>\n",
       "    </tr>\n",
       "    <tr>\n",
       "      <th>81212</th>\n",
       "      <td>540</td>\n",
       "      <td>2018-06-19 08:50:01.4420</td>\n",
       "      <td>2018-06-19 08:59:01.9170</td>\n",
       "      <td>250.0</td>\n",
       "      <td>North Berkeley BART Station</td>\n",
       "      <td>37.874014</td>\n",
       "      <td>-122.283019</td>\n",
       "      <td>244.0</td>\n",
       "      <td>Shattuck Ave at Hearst Ave</td>\n",
       "      <td>37.873792</td>\n",
       "      <td>-122.268618</td>\n",
       "      <td>1349</td>\n",
       "      <td>Subscriber</td>\n",
       "      <td>No</td>\n",
       "    </tr>\n",
       "    <tr>\n",
       "      <th>156791</th>\n",
       "      <td>1225</td>\n",
       "      <td>2018-06-07 06:55:15.2540</td>\n",
       "      <td>2018-06-07 07:15:40.4730</td>\n",
       "      <td>19.0</td>\n",
       "      <td>Post St at Kearny St</td>\n",
       "      <td>37.788975</td>\n",
       "      <td>-122.403452</td>\n",
       "      <td>114.0</td>\n",
       "      <td>Rhode Island St at 17th St</td>\n",
       "      <td>37.764478</td>\n",
       "      <td>-122.402570</td>\n",
       "      <td>1195</td>\n",
       "      <td>Subscriber</td>\n",
       "      <td>No</td>\n",
       "    </tr>\n",
       "    <tr>\n",
       "      <th>191673</th>\n",
       "      <td>936</td>\n",
       "      <td>2018-06-01 16:50:35.4100</td>\n",
       "      <td>2018-06-01 17:06:11.6040</td>\n",
       "      <td>9.0</td>\n",
       "      <td>Broadway at Battery St</td>\n",
       "      <td>37.798572</td>\n",
       "      <td>-122.400869</td>\n",
       "      <td>30.0</td>\n",
       "      <td>San Francisco Caltrain (Townsend St at 4th St)</td>\n",
       "      <td>37.776598</td>\n",
       "      <td>-122.395282</td>\n",
       "      <td>781</td>\n",
       "      <td>Subscriber</td>\n",
       "      <td>No</td>\n",
       "    </tr>\n",
       "    <tr>\n",
       "      <th>23093</th>\n",
       "      <td>705</td>\n",
       "      <td>2018-06-27 16:35:55.1360</td>\n",
       "      <td>2018-06-27 16:47:40.2060</td>\n",
       "      <td>14.0</td>\n",
       "      <td>Clay St at Battery St</td>\n",
       "      <td>37.795001</td>\n",
       "      <td>-122.399970</td>\n",
       "      <td>30.0</td>\n",
       "      <td>San Francisco Caltrain (Townsend St at 4th St)</td>\n",
       "      <td>37.776598</td>\n",
       "      <td>-122.395282</td>\n",
       "      <td>2791</td>\n",
       "      <td>Subscriber</td>\n",
       "      <td>No</td>\n",
       "    </tr>\n",
       "    <tr>\n",
       "      <th>153785</th>\n",
       "      <td>264</td>\n",
       "      <td>2018-06-07 13:54:55.3640</td>\n",
       "      <td>2018-06-07 13:59:19.9200</td>\n",
       "      <td>285.0</td>\n",
       "      <td>Webster St at O'Farrell St</td>\n",
       "      <td>37.783521</td>\n",
       "      <td>-122.431158</td>\n",
       "      <td>39.0</td>\n",
       "      <td>Scott St at Golden Gate Ave</td>\n",
       "      <td>37.778999</td>\n",
       "      <td>-122.436861</td>\n",
       "      <td>2006</td>\n",
       "      <td>Subscriber</td>\n",
       "      <td>No</td>\n",
       "    </tr>\n",
       "    <tr>\n",
       "      <th>163757</th>\n",
       "      <td>895</td>\n",
       "      <td>2018-06-06 08:05:07.3010</td>\n",
       "      <td>2018-06-06 08:20:02.3820</td>\n",
       "      <td>71.0</td>\n",
       "      <td>Broderick St at Oak St</td>\n",
       "      <td>37.773063</td>\n",
       "      <td>-122.439078</td>\n",
       "      <td>80.0</td>\n",
       "      <td>Townsend St at 5th St</td>\n",
       "      <td>37.775306</td>\n",
       "      <td>-122.397380</td>\n",
       "      <td>3690</td>\n",
       "      <td>Subscriber</td>\n",
       "      <td>No</td>\n",
       "    </tr>\n",
       "    <tr>\n",
       "      <th>167115</th>\n",
       "      <td>760</td>\n",
       "      <td>2018-06-05 17:28:33.3750</td>\n",
       "      <td>2018-06-05 17:41:14.0060</td>\n",
       "      <td>90.0</td>\n",
       "      <td>Townsend St at 7th St</td>\n",
       "      <td>37.771058</td>\n",
       "      <td>-122.402717</td>\n",
       "      <td>15.0</td>\n",
       "      <td>San Francisco Ferry Building (Harry Bridges Pl...</td>\n",
       "      <td>37.795392</td>\n",
       "      <td>-122.394203</td>\n",
       "      <td>1678</td>\n",
       "      <td>Subscriber</td>\n",
       "      <td>No</td>\n",
       "    </tr>\n",
       "    <tr>\n",
       "      <th>39220</th>\n",
       "      <td>691</td>\n",
       "      <td>2018-06-25 16:28:24.3520</td>\n",
       "      <td>2018-06-25 16:39:56.1520</td>\n",
       "      <td>93.0</td>\n",
       "      <td>4th St at Mission Bay Blvd S</td>\n",
       "      <td>37.770407</td>\n",
       "      <td>-122.391198</td>\n",
       "      <td>16.0</td>\n",
       "      <td>Steuart St at Market St</td>\n",
       "      <td>37.794130</td>\n",
       "      <td>-122.394430</td>\n",
       "      <td>1988</td>\n",
       "      <td>Subscriber</td>\n",
       "      <td>No</td>\n",
       "    </tr>\n",
       "    <tr>\n",
       "      <th>136171</th>\n",
       "      <td>1189</td>\n",
       "      <td>2018-06-10 18:53:58.2760</td>\n",
       "      <td>2018-06-10 19:13:47.7290</td>\n",
       "      <td>181.0</td>\n",
       "      <td>Grand Ave at Webster St</td>\n",
       "      <td>37.811377</td>\n",
       "      <td>-122.265192</td>\n",
       "      <td>173.0</td>\n",
       "      <td>Shattuck Ave at 55th St</td>\n",
       "      <td>37.840364</td>\n",
       "      <td>-122.264488</td>\n",
       "      <td>1835</td>\n",
       "      <td>Subscriber</td>\n",
       "      <td>No</td>\n",
       "    </tr>\n",
       "    <tr>\n",
       "      <th>154360</th>\n",
       "      <td>186</td>\n",
       "      <td>2018-06-07 11:49:07.9950</td>\n",
       "      <td>2018-06-07 11:52:14.1680</td>\n",
       "      <td>8.0</td>\n",
       "      <td>The Embarcadero at Vallejo St</td>\n",
       "      <td>37.799953</td>\n",
       "      <td>-122.398525</td>\n",
       "      <td>16.0</td>\n",
       "      <td>Steuart St at Market St</td>\n",
       "      <td>37.794130</td>\n",
       "      <td>-122.394430</td>\n",
       "      <td>1771</td>\n",
       "      <td>Subscriber</td>\n",
       "      <td>No</td>\n",
       "    </tr>\n",
       "    <tr>\n",
       "      <th>21574</th>\n",
       "      <td>745</td>\n",
       "      <td>2018-06-27 18:15:16.2570</td>\n",
       "      <td>2018-06-27 18:27:41.3660</td>\n",
       "      <td>15.0</td>\n",
       "      <td>San Francisco Ferry Building (Harry Bridges Pl...</td>\n",
       "      <td>37.795392</td>\n",
       "      <td>-122.394203</td>\n",
       "      <td>81.0</td>\n",
       "      <td>Berry St at 4th St</td>\n",
       "      <td>37.775880</td>\n",
       "      <td>-122.393170</td>\n",
       "      <td>4214</td>\n",
       "      <td>Subscriber</td>\n",
       "      <td>No</td>\n",
       "    </tr>\n",
       "    <tr>\n",
       "      <th>131370</th>\n",
       "      <td>430</td>\n",
       "      <td>2018-06-11 16:56:29.4600</td>\n",
       "      <td>2018-06-11 17:03:39.7420</td>\n",
       "      <td>250.0</td>\n",
       "      <td>North Berkeley BART Station</td>\n",
       "      <td>37.874014</td>\n",
       "      <td>-122.283019</td>\n",
       "      <td>259.0</td>\n",
       "      <td>Addison St at Fourth St</td>\n",
       "      <td>37.866249</td>\n",
       "      <td>-122.299371</td>\n",
       "      <td>3701</td>\n",
       "      <td>Subscriber</td>\n",
       "      <td>No</td>\n",
       "    </tr>\n",
       "  </tbody>\n",
       "</table>\n",
       "</div>"
      ],
      "text/plain": [
       "        duration_sec                start_time                  end_time  \\\n",
       "35280            747  2018-06-26 07:31:58.5930  2018-06-26 07:44:26.2730   \n",
       "6705             589  2018-06-29 17:15:00.6200  2018-06-29 17:24:49.9450   \n",
       "168145          1020  2018-06-05 15:54:04.1080  2018-06-05 16:11:04.3020   \n",
       "43300            157  2018-06-25 06:41:50.6600  2018-06-25 06:44:28.6040   \n",
       "17887            249  2018-06-28 09:17:53.5560  2018-06-28 09:22:03.3350   \n",
       "163422           459  2018-06-06 08:32:25.5260  2018-06-06 08:40:04.7120   \n",
       "43806            371  2018-06-24 20:23:49.2620  2018-06-24 20:30:00.8770   \n",
       "187021          2734  2018-06-02 13:22:10.7950  2018-06-02 14:07:45.4580   \n",
       "81212            540  2018-06-19 08:50:01.4420  2018-06-19 08:59:01.9170   \n",
       "156791          1225  2018-06-07 06:55:15.2540  2018-06-07 07:15:40.4730   \n",
       "191673           936  2018-06-01 16:50:35.4100  2018-06-01 17:06:11.6040   \n",
       "23093            705  2018-06-27 16:35:55.1360  2018-06-27 16:47:40.2060   \n",
       "153785           264  2018-06-07 13:54:55.3640  2018-06-07 13:59:19.9200   \n",
       "163757           895  2018-06-06 08:05:07.3010  2018-06-06 08:20:02.3820   \n",
       "167115           760  2018-06-05 17:28:33.3750  2018-06-05 17:41:14.0060   \n",
       "39220            691  2018-06-25 16:28:24.3520  2018-06-25 16:39:56.1520   \n",
       "136171          1189  2018-06-10 18:53:58.2760  2018-06-10 19:13:47.7290   \n",
       "154360           186  2018-06-07 11:49:07.9950  2018-06-07 11:52:14.1680   \n",
       "21574            745  2018-06-27 18:15:16.2570  2018-06-27 18:27:41.3660   \n",
       "131370           430  2018-06-11 16:56:29.4600  2018-06-11 17:03:39.7420   \n",
       "\n",
       "        start_station_id                                 start_station_name  \\\n",
       "35280              321.0                                      5th at Folsom   \n",
       "6705                59.0                        S Van Ness Ave at Market St   \n",
       "168145              93.0                       4th St at Mission Bay Blvd S   \n",
       "43300               50.0                              2nd St at Townsend St   \n",
       "17887              239.0                      Bancroft Way at Telegraph Ave   \n",
       "163422               3.0       Powell St BART Station (Market St at 4th St)   \n",
       "43806              167.0                         College Ave at Harwood Ave   \n",
       "187021              29.0                      O'Farrell St at Divisadero St   \n",
       "81212              250.0                        North Berkeley BART Station   \n",
       "156791              19.0                               Post St at Kearny St   \n",
       "191673               9.0                             Broadway at Battery St   \n",
       "23093               14.0                              Clay St at Battery St   \n",
       "153785             285.0                         Webster St at O'Farrell St   \n",
       "163757              71.0                             Broderick St at Oak St   \n",
       "167115              90.0                              Townsend St at 7th St   \n",
       "39220               93.0                       4th St at Mission Bay Blvd S   \n",
       "136171             181.0                            Grand Ave at Webster St   \n",
       "154360               8.0                      The Embarcadero at Vallejo St   \n",
       "21574               15.0  San Francisco Ferry Building (Harry Bridges Pl...   \n",
       "131370             250.0                        North Berkeley BART Station   \n",
       "\n",
       "        start_station_latitude  start_station_longitude  end_station_id  \\\n",
       "35280                37.780146              -122.403071            58.0   \n",
       "6705                 37.774814              -122.418954             5.0   \n",
       "168145               37.770407              -122.391198            75.0   \n",
       "43300                37.780526              -122.390288            81.0   \n",
       "17887                37.868813              -122.258764           245.0   \n",
       "163422               37.786375              -122.404904            64.0   \n",
       "43806                37.848152              -122.252160           206.0   \n",
       "187021               37.782405              -122.439446            53.0   \n",
       "81212                37.874014              -122.283019           244.0   \n",
       "156791               37.788975              -122.403452           114.0   \n",
       "191673               37.798572              -122.400869            30.0   \n",
       "23093                37.795001              -122.399970            30.0   \n",
       "153785               37.783521              -122.431158            39.0   \n",
       "163757               37.773063              -122.439078            80.0   \n",
       "167115               37.771058              -122.402717            15.0   \n",
       "39220                37.770407              -122.391198            16.0   \n",
       "136171               37.811377              -122.265192           173.0   \n",
       "154360               37.799953              -122.398525            16.0   \n",
       "21574                37.795392              -122.394203            81.0   \n",
       "131370               37.874014              -122.283019           259.0   \n",
       "\n",
       "                                         end_station_name  \\\n",
       "35280                                Market St at 10th St   \n",
       "6705         Powell St BART Station (Market St at 5th St)   \n",
       "168145                           Market St at Franklin St   \n",
       "43300                                  Berry St at 4th St   \n",
       "17887                              Downtown Berkeley BART   \n",
       "163422                               5th St at Brannan St   \n",
       "43806                           College Ave at Bryant Ave   \n",
       "187021                             Grove St at Divisadero   \n",
       "81212                          Shattuck Ave at Hearst Ave   \n",
       "156791                         Rhode Island St at 17th St   \n",
       "191673     San Francisco Caltrain (Townsend St at 4th St)   \n",
       "23093      San Francisco Caltrain (Townsend St at 4th St)   \n",
       "153785                        Scott St at Golden Gate Ave   \n",
       "163757                              Townsend St at 5th St   \n",
       "167115  San Francisco Ferry Building (Harry Bridges Pl...   \n",
       "39220                             Steuart St at Market St   \n",
       "136171                            Shattuck Ave at 55th St   \n",
       "154360                            Steuart St at Market St   \n",
       "21574                                  Berry St at 4th St   \n",
       "131370                            Addison St at Fourth St   \n",
       "\n",
       "        end_station_latitude  end_station_longitude  bike_id   user_type  \\\n",
       "35280              37.776619            -122.417385     1180  Subscriber   \n",
       "6705               37.783899            -122.408445     1730  Subscriber   \n",
       "168145             37.773793            -122.421239      586  Subscriber   \n",
       "43300              37.775880            -122.393170     3906  Subscriber   \n",
       "17887              37.870348            -122.267764      508  Subscriber   \n",
       "163422             37.776754            -122.399018      156  Subscriber   \n",
       "43806              37.838127            -122.251271      308  Subscriber   \n",
       "187021             37.775946            -122.437777     3985  Subscriber   \n",
       "81212              37.873792            -122.268618     1349  Subscriber   \n",
       "156791             37.764478            -122.402570     1195  Subscriber   \n",
       "191673             37.776598            -122.395282      781  Subscriber   \n",
       "23093              37.776598            -122.395282     2791  Subscriber   \n",
       "153785             37.778999            -122.436861     2006  Subscriber   \n",
       "163757             37.775306            -122.397380     3690  Subscriber   \n",
       "167115             37.795392            -122.394203     1678  Subscriber   \n",
       "39220              37.794130            -122.394430     1988  Subscriber   \n",
       "136171             37.840364            -122.264488     1835  Subscriber   \n",
       "154360             37.794130            -122.394430     1771  Subscriber   \n",
       "21574              37.775880            -122.393170     4214  Subscriber   \n",
       "131370             37.866249            -122.299371     3701  Subscriber   \n",
       "\n",
       "       bike_share_for_all_trip  \n",
       "35280                       No  \n",
       "6705                        No  \n",
       "168145                      No  \n",
       "43300                       No  \n",
       "17887                       No  \n",
       "163422                      No  \n",
       "43806                      Yes  \n",
       "187021                     Yes  \n",
       "81212                       No  \n",
       "156791                      No  \n",
       "191673                      No  \n",
       "23093                       No  \n",
       "153785                      No  \n",
       "163757                      No  \n",
       "167115                      No  \n",
       "39220                       No  \n",
       "136171                      No  \n",
       "154360                      No  \n",
       "21574                       No  \n",
       "131370                      No  "
      ]
     },
     "execution_count": 158,
     "metadata": {},
     "output_type": "execute_result"
    }
   ],
   "source": [
    "#use sample() to check the data set coulmn \n",
    "df.sample(20)"
   ]
  },
  {
   "cell_type": "code",
   "execution_count": 159,
   "metadata": {},
   "outputs": [
    {
     "data": {
      "text/plain": [
       "(195968, 14)"
      ]
     },
     "execution_count": 159,
     "metadata": {},
     "output_type": "execute_result"
    }
   ],
   "source": [
    "# use shape to know the numbers of clomn and rows \n",
    "df.shape"
   ]
  },
  {
   "cell_type": "code",
   "execution_count": 160,
   "metadata": {},
   "outputs": [
    {
     "name": "stdout",
     "output_type": "stream",
     "text": [
      "<class 'pandas.core.frame.DataFrame'>\n",
      "RangeIndex: 195968 entries, 0 to 195967\n",
      "Data columns (total 14 columns):\n",
      "duration_sec               195968 non-null int64\n",
      "start_time                 195968 non-null object\n",
      "end_time                   195968 non-null object\n",
      "start_station_id           193907 non-null float64\n",
      "start_station_name         193907 non-null object\n",
      "start_station_latitude     195968 non-null float64\n",
      "start_station_longitude    195968 non-null float64\n",
      "end_station_id             193907 non-null float64\n",
      "end_station_name           193907 non-null object\n",
      "end_station_latitude       195968 non-null float64\n",
      "end_station_longitude      195968 non-null float64\n",
      "bike_id                    195968 non-null int64\n",
      "user_type                  195968 non-null object\n",
      "bike_share_for_all_trip    195968 non-null object\n",
      "dtypes: float64(6), int64(2), object(6)\n",
      "memory usage: 20.9+ MB\n"
     ]
    }
   ],
   "source": [
    "#use info to check data types and number of entries \n",
    "df.info()"
   ]
  },
  {
   "cell_type": "code",
   "execution_count": 161,
   "metadata": {},
   "outputs": [
    {
     "data": {
      "text/plain": [
       "Subscriber    163085\n",
       "Customer       32883\n",
       "Name: user_type, dtype: int64"
      ]
     },
     "execution_count": 161,
     "metadata": {},
     "output_type": "execute_result"
    }
   ],
   "source": [
    "#Number of Customer and Subscriber \n",
    "df['user_type'].value_counts()"
   ]
  },
  {
   "cell_type": "code",
   "execution_count": 162,
   "metadata": {},
   "outputs": [
    {
     "data": {
      "text/plain": [
       "San Francisco Ferry Building (Harry Bridges Plaza)                 4099\n",
       "San Francisco Caltrain Station 2  (Townsend St at 4th St)          3921\n",
       "Berry St at 4th St                                                 3871\n",
       "San Francisco Caltrain (Townsend St at 4th St)                     3722\n",
       "The Embarcadero at Sansome St                                      3676\n",
       "Montgomery St BART Station (Market St at 2nd St)                   3636\n",
       "Market St at 10th St                                               3604\n",
       "Powell St BART Station (Market St at 4th St)                       3257\n",
       "Steuart St at Market St                                            3070\n",
       "3rd St at Townsend St                                              2767\n",
       "Howard St at Beale St                                              2719\n",
       "Powell St BART Station (Market St at 5th St)                       2711\n",
       "2nd St at Townsend St                                              2402\n",
       "Embarcadero BART Station (Beale St at Market St)                   2313\n",
       "Townsend St at 7th St                                              1840\n",
       "19th Street BART Station                                           1835\n",
       "4th St at Mission Bay Blvd S                                       1798\n",
       "Beale St at Harrison St                                            1731\n",
       "The Embarcadero at Steuart St                                      1725\n",
       "Civic Center/UN Plaza BART Station (Market St at McAllister St)    1707\n",
       "Post St at Kearny St                                               1618\n",
       "2nd St at Folsom St                                                1590\n",
       "MacArthur BART Station                                             1485\n",
       "Valencia St at 24th St                                             1456\n",
       "Union Square (Powell St at Post St)                                1430\n",
       "Spear St at Folsom St                                              1402\n",
       "Esprit Park                                                        1393\n",
       "Howard St at 8th St                                                1391\n",
       "Yerba Buena Center for the Arts (Howard St at 3rd St)              1378\n",
       "Golden Gate Ave at Polk St                                         1355\n",
       "                                                                   ... \n",
       "45th St at MLK Jr Way                                                84\n",
       "Foothill Blvd at Fruitvale Ave                                       84\n",
       "27th St at MLK Jr Way                                                82\n",
       "George St at 1st St                                                  77\n",
       "San Antonio Park                                                     73\n",
       "Empire St at 1st St                                                  70\n",
       "Market St at 8th St                                                  68\n",
       "23rd Ave at Foothill Blvd                                            68\n",
       "SAP Center                                                           67\n",
       "12th St at 6th Ave                                                   59\n",
       "53rd St at Hollis St                                                 57\n",
       "Palm St at Willow St                                                 56\n",
       "Locust St at Grant St                                                55\n",
       "Berry St at King St                                                  53\n",
       "Delmas Ave and San Fernando St                                       52\n",
       "Mission St at 1st St                                                 50\n",
       "23rd St at Tennessee St                                              45\n",
       "Fifth St at Delaware St                                              44\n",
       "Foothill Blvd at Harrington Ave                                      41\n",
       "Bestor Art Park                                                      39\n",
       "San Pedro St at Hedding St                                           39\n",
       "Almaden Blvd at Balbach St                                           37\n",
       "Tamien Station                                                       31\n",
       "Fruitvale Ave at International Blvd                                  25\n",
       "26th Ave at International Blvd                                       24\n",
       "Oak St at 1st St                                                     19\n",
       "21st Ave at International Blvd                                       13\n",
       "16th St Depot                                                        10\n",
       "Foothill Blvd at 42nd Ave                                             7\n",
       "Willow St at Vine St                                                  4\n",
       "Name: start_station_name, Length: 299, dtype: int64"
      ]
     },
     "execution_count": 162,
     "metadata": {},
     "output_type": "execute_result"
    }
   ],
   "source": [
    "# Nmaes of Start station\n",
    "df['start_station_name'].value_counts()"
   ]
  },
  {
   "cell_type": "code",
   "execution_count": 163,
   "metadata": {},
   "outputs": [
    {
     "data": {
      "text/plain": [
       "San Francisco Caltrain Station 2  (Townsend St at 4th St)          5126\n",
       "San Francisco Ferry Building (Harry Bridges Plaza)                 4726\n",
       "The Embarcadero at Sansome St                                      4355\n",
       "San Francisco Caltrain (Townsend St at 4th St)                     4338\n",
       "Montgomery St BART Station (Market St at 2nd St)                   3837\n",
       "Berry St at 4th St                                                 3654\n",
       "Market St at 10th St                                               3610\n",
       "Powell St BART Station (Market St at 4th St)                       3368\n",
       "Steuart St at Market St                                            3063\n",
       "Powell St BART Station (Market St at 5th St)                       2826\n",
       "3rd St at Townsend St                                              2730\n",
       "Howard St at Beale St                                              2621\n",
       "2nd St at Townsend St                                              2442\n",
       "Embarcadero BART Station (Beale St at Market St)                   2185\n",
       "4th St at Mission Bay Blvd S                                       2006\n",
       "19th Street BART Station                                           1964\n",
       "Townsend St at 7th St                                              1924\n",
       "Civic Center/UN Plaza BART Station (Market St at McAllister St)    1821\n",
       "Beale St at Harrison St                                            1730\n",
       "Post St at Kearny St                                               1715\n",
       "The Embarcadero at Steuart St                                      1698\n",
       "Downtown Berkeley BART                                             1595\n",
       "MacArthur BART Station                                             1593\n",
       "Folsom St at 3rd St                                                1466\n",
       "Spear St at Folsom St                                              1439\n",
       "Esprit Park                                                        1435\n",
       "Valencia St at 24th St                                             1384\n",
       "Howard St at 8th St                                                1370\n",
       "Yerba Buena Center for the Arts (Howard St at 3rd St)              1370\n",
       "The Embarcadero at Vallejo St                                      1329\n",
       "                                                                   ... \n",
       "George St at 1st St                                                  83\n",
       "12th St at 6th Ave                                                   79\n",
       "Marston Campbell Park                                                77\n",
       "53rd St at Hollis St                                                 72\n",
       "Foothill Blvd at Fruitvale Ave                                       72\n",
       "27th St at MLK Jr Way                                                72\n",
       "Market St at 8th St                                                  70\n",
       "SAP Center                                                           70\n",
       "23rd Ave at Foothill Blvd                                            67\n",
       "San Antonio Park                                                     61\n",
       "Empire St at 1st St                                                  55\n",
       "Palm St at Willow St                                                 53\n",
       "Locust St at Grant St                                                53\n",
       "Delmas Ave and San Fernando St                                       51\n",
       "Mission St at 1st St                                                 48\n",
       "23rd St at Tennessee St                                              47\n",
       "Almaden Blvd at Balbach St                                           47\n",
       "San Pedro St at Hedding St                                           43\n",
       "Haste St at College Ave                                              42\n",
       "Berry St at King St                                                  39\n",
       "Bestor Art Park                                                      36\n",
       "Tamien Station                                                       31\n",
       "Fruitvale Ave at International Blvd                                  25\n",
       "Foothill Blvd at Harrington Ave                                      20\n",
       "26th Ave at International Blvd                                       16\n",
       "Oak St at 1st St                                                     14\n",
       "21st Ave at International Blvd                                       13\n",
       "16th St Depot                                                        12\n",
       "Foothill Blvd at 42nd Ave                                             5\n",
       "Willow St at Vine St                                                  2\n",
       "Name: end_station_name, Length: 299, dtype: int64"
      ]
     },
     "execution_count": 163,
     "metadata": {},
     "output_type": "execute_result"
    }
   ],
   "source": [
    "#Name of End stations \n",
    "df['end_station_name'].value_counts()\n",
    "\n",
    "\n"
   ]
  },
  {
   "cell_type": "code",
   "execution_count": 164,
   "metadata": {},
   "outputs": [
    {
     "data": {
      "text/plain": [
       "0"
      ]
     },
     "execution_count": 164,
     "metadata": {},
     "output_type": "execute_result"
    }
   ],
   "source": [
    "#Check for any Duplication\n",
    "df.duplicated().sum()"
   ]
  },
  {
   "cell_type": "markdown",
   "metadata": {},
   "source": [
    "\n",
    "\n",
    "\n",
    "<a id='intro'></a>\n",
    "## Data Cleaning"
   ]
  },
  {
   "cell_type": "markdown",
   "metadata": {},
   "source": [
    "Create a Copy of dataset"
   ]
  },
  {
   "cell_type": "code",
   "execution_count": 165,
   "metadata": {},
   "outputs": [],
   "source": [
    "#Copying df \n",
    "df_clean = df.copy()"
   ]
  },
  {
   "cell_type": "markdown",
   "metadata": {},
   "source": [
    "Change Type of start_station_name,end_station_namemuser_type to String"
   ]
  },
  {
   "cell_type": "code",
   "execution_count": 166,
   "metadata": {},
   "outputs": [],
   "source": [
    "#change types\n",
    "df_clean['start_station_name'] = df_clean['start_station_name'].astype(str)\n",
    "df_clean['end_station_name'] = df_clean['end_station_name'].astype(str)\n",
    "df_clean['user_type'] = df_clean['user_type'].astype(str)\n",
    "\n",
    " "
   ]
  },
  {
   "cell_type": "code",
   "execution_count": 167,
   "metadata": {},
   "outputs": [
    {
     "name": "stdout",
     "output_type": "stream",
     "text": [
      "<class 'pandas.core.frame.DataFrame'>\n",
      "RangeIndex: 195968 entries, 0 to 195967\n",
      "Data columns (total 14 columns):\n",
      "duration_sec               195968 non-null int64\n",
      "start_time                 195968 non-null object\n",
      "end_time                   195968 non-null object\n",
      "start_station_id           193907 non-null float64\n",
      "start_station_name         195968 non-null object\n",
      "start_station_latitude     195968 non-null float64\n",
      "start_station_longitude    195968 non-null float64\n",
      "end_station_id             193907 non-null float64\n",
      "end_station_name           195968 non-null object\n",
      "end_station_latitude       195968 non-null float64\n",
      "end_station_longitude      195968 non-null float64\n",
      "bike_id                    195968 non-null int64\n",
      "user_type                  195968 non-null object\n",
      "bike_share_for_all_trip    195968 non-null object\n",
      "dtypes: float64(6), int64(2), object(6)\n",
      "memory usage: 20.9+ MB\n"
     ]
    }
   ],
   "source": [
    "#Test\n",
    "df_clean.info()"
   ]
  },
  {
   "cell_type": "markdown",
   "metadata": {},
   "source": [
    "\n",
    "\n",
    "Claculate The Distance useing latitude and longitude    "
   ]
  },
  {
   "cell_type": "code",
   "execution_count": 168,
   "metadata": {},
   "outputs": [],
   "source": [
    "#Calculte Distance in km \n",
    "\n",
    "#import math library \n",
    "import math\n",
    "from math import radians, sin, cos, acos\n",
    "\n",
    "#define distance \n",
    "def distance(origin, destination):\n",
    "\n",
    "    Flat, Flong = origin\n",
    "    Slat, Slong = destination\n",
    "    radius = 6371\n",
    "    a = (math.sin(math.radians(Slat - Flat) / 2) * math.sin(math.radians(Slat - Flat) / 2) + math.cos(math.radians(Flat)) * math.cos(math.radians(Slat)) * math.sin(math.radians(Slong - Flong) / 2) * math.sin(math.radians(Slong - Flong) / 2))\n",
    "    c = 2 * math.atan2(math.sqrt(a), math.sqrt(1 - a))\n",
    "    d = radius * c\n",
    "\n",
    "    return d"
   ]
  },
  {
   "cell_type": "code",
   "execution_count": 169,
   "metadata": {},
   "outputs": [],
   "source": [
    "#add a new distance coulmn \n",
    "df_clean['distance'] = df_clean.apply(lambda x: distance((x['start_station_latitude'], x['start_station_longitude']), (x['end_station_latitude'], x['end_station_longitude'])), axis=1)\n",
    "# Convert type to int \n",
    "df_clean['distance'] = df_clean['distance'].astype(int)\n"
   ]
  },
  {
   "cell_type": "markdown",
   "metadata": {},
   "source": [
    "Split the start time into month , day ,hour "
   ]
  },
  {
   "cell_type": "code",
   "execution_count": 170,
   "metadata": {},
   "outputs": [],
   "source": [
    "#Convert Start time to datatime\n",
    "df_clean.start_time = pd.to_datetime(df_clean.start_time)\n",
    "#create month name cloumn\n",
    "df_clean['start_time_month'] = df_clean['start_time'].dt.strftime('%B')\n",
    "#create month number cloumn\n",
    "df_clean['start_time_month_num'] = df_clean['start_time'].dt.month.astype(int)\n",
    "#create day name cloumn\n",
    "df_clean['start_time_weekday'] = df_clean['start_time'].dt.strftime('%a')\n",
    "#create day number cloumn\n",
    "df_clean['start_time_weekday_num'] = df_clean['start_time'].dt.day.astype(int)\n",
    "#create hour number cloumn\n",
    "df_clean['start_time_hour'] = df_clean['start_time'].dt.hour\n"
   ]
  },
  {
   "cell_type": "code",
   "execution_count": 171,
   "metadata": {},
   "outputs": [
    {
     "name": "stdout",
     "output_type": "stream",
     "text": [
      "<class 'pandas.core.frame.DataFrame'>\n",
      "RangeIndex: 195968 entries, 0 to 195967\n",
      "Data columns (total 20 columns):\n",
      "duration_sec               195968 non-null int64\n",
      "start_time                 195968 non-null datetime64[ns]\n",
      "end_time                   195968 non-null object\n",
      "start_station_id           193907 non-null float64\n",
      "start_station_name         195968 non-null object\n",
      "start_station_latitude     195968 non-null float64\n",
      "start_station_longitude    195968 non-null float64\n",
      "end_station_id             193907 non-null float64\n",
      "end_station_name           195968 non-null object\n",
      "end_station_latitude       195968 non-null float64\n",
      "end_station_longitude      195968 non-null float64\n",
      "bike_id                    195968 non-null int64\n",
      "user_type                  195968 non-null object\n",
      "bike_share_for_all_trip    195968 non-null object\n",
      "distance                   195968 non-null int32\n",
      "start_time_month           195968 non-null object\n",
      "start_time_month_num       195968 non-null int32\n",
      "start_time_weekday         195968 non-null object\n",
      "start_time_weekday_num     195968 non-null int32\n",
      "start_time_hour            195968 non-null int64\n",
      "dtypes: datetime64[ns](1), float64(6), int32(3), int64(3), object(7)\n",
      "memory usage: 27.7+ MB\n"
     ]
    }
   ],
   "source": [
    "#Test\n",
    "df_clean.info()"
   ]
  },
  {
   "cell_type": "code",
   "execution_count": 172,
   "metadata": {},
   "outputs": [
    {
     "data": {
      "text/html": [
       "<div>\n",
       "<style scoped>\n",
       "    .dataframe tbody tr th:only-of-type {\n",
       "        vertical-align: middle;\n",
       "    }\n",
       "\n",
       "    .dataframe tbody tr th {\n",
       "        vertical-align: top;\n",
       "    }\n",
       "\n",
       "    .dataframe thead th {\n",
       "        text-align: right;\n",
       "    }\n",
       "</style>\n",
       "<table border=\"1\" class=\"dataframe\">\n",
       "  <thead>\n",
       "    <tr style=\"text-align: right;\">\n",
       "      <th></th>\n",
       "      <th>duration_sec</th>\n",
       "      <th>start_time</th>\n",
       "      <th>end_time</th>\n",
       "      <th>start_station_id</th>\n",
       "      <th>start_station_name</th>\n",
       "      <th>start_station_latitude</th>\n",
       "      <th>start_station_longitude</th>\n",
       "      <th>end_station_id</th>\n",
       "      <th>end_station_name</th>\n",
       "      <th>end_station_latitude</th>\n",
       "      <th>end_station_longitude</th>\n",
       "      <th>bike_id</th>\n",
       "      <th>user_type</th>\n",
       "      <th>bike_share_for_all_trip</th>\n",
       "      <th>distance</th>\n",
       "      <th>start_time_month</th>\n",
       "      <th>start_time_month_num</th>\n",
       "      <th>start_time_weekday</th>\n",
       "      <th>start_time_weekday_num</th>\n",
       "      <th>start_time_hour</th>\n",
       "    </tr>\n",
       "  </thead>\n",
       "  <tbody>\n",
       "    <tr>\n",
       "      <th>94123</th>\n",
       "      <td>539</td>\n",
       "      <td>2018-06-16 21:58:15.025</td>\n",
       "      <td>2018-06-16 22:07:14.5050</td>\n",
       "      <td>92.0</td>\n",
       "      <td>Mission Bay Kids Park</td>\n",
       "      <td>37.772301</td>\n",
       "      <td>-122.393027</td>\n",
       "      <td>78.0</td>\n",
       "      <td>Folsom St at 9th St</td>\n",
       "      <td>37.773717</td>\n",
       "      <td>-122.411647</td>\n",
       "      <td>3846</td>\n",
       "      <td>Subscriber</td>\n",
       "      <td>No</td>\n",
       "      <td>1</td>\n",
       "      <td>June</td>\n",
       "      <td>6</td>\n",
       "      <td>Sat</td>\n",
       "      <td>16</td>\n",
       "      <td>21</td>\n",
       "    </tr>\n",
       "    <tr>\n",
       "      <th>185520</th>\n",
       "      <td>623</td>\n",
       "      <td>2018-06-02 17:30:24.147</td>\n",
       "      <td>2018-06-02 17:40:47.9010</td>\n",
       "      <td>3.0</td>\n",
       "      <td>Powell St BART Station (Market St at 4th St)</td>\n",
       "      <td>37.786375</td>\n",
       "      <td>-122.404904</td>\n",
       "      <td>75.0</td>\n",
       "      <td>Market St at Franklin St</td>\n",
       "      <td>37.773793</td>\n",
       "      <td>-122.421239</td>\n",
       "      <td>4003</td>\n",
       "      <td>Subscriber</td>\n",
       "      <td>No</td>\n",
       "      <td>2</td>\n",
       "      <td>June</td>\n",
       "      <td>6</td>\n",
       "      <td>Sat</td>\n",
       "      <td>2</td>\n",
       "      <td>17</td>\n",
       "    </tr>\n",
       "    <tr>\n",
       "      <th>39499</th>\n",
       "      <td>385</td>\n",
       "      <td>2018-06-25 15:58:18.498</td>\n",
       "      <td>2018-06-25 16:04:43.9200</td>\n",
       "      <td>324.0</td>\n",
       "      <td>Union Square (Powell St at Post St)</td>\n",
       "      <td>37.788300</td>\n",
       "      <td>-122.408531</td>\n",
       "      <td>324.0</td>\n",
       "      <td>Union Square (Powell St at Post St)</td>\n",
       "      <td>37.788300</td>\n",
       "      <td>-122.408531</td>\n",
       "      <td>3796</td>\n",
       "      <td>Subscriber</td>\n",
       "      <td>No</td>\n",
       "      <td>0</td>\n",
       "      <td>June</td>\n",
       "      <td>6</td>\n",
       "      <td>Mon</td>\n",
       "      <td>25</td>\n",
       "      <td>15</td>\n",
       "    </tr>\n",
       "    <tr>\n",
       "      <th>17084</th>\n",
       "      <td>1207</td>\n",
       "      <td>2018-06-28 10:33:19.018</td>\n",
       "      <td>2018-06-28 10:53:26.8320</td>\n",
       "      <td>17.0</td>\n",
       "      <td>Embarcadero BART Station (Beale St at Market St)</td>\n",
       "      <td>37.792251</td>\n",
       "      <td>-122.397086</td>\n",
       "      <td>92.0</td>\n",
       "      <td>Mission Bay Kids Park</td>\n",
       "      <td>37.772301</td>\n",
       "      <td>-122.393027</td>\n",
       "      <td>750</td>\n",
       "      <td>Subscriber</td>\n",
       "      <td>No</td>\n",
       "      <td>2</td>\n",
       "      <td>June</td>\n",
       "      <td>6</td>\n",
       "      <td>Thu</td>\n",
       "      <td>28</td>\n",
       "      <td>10</td>\n",
       "    </tr>\n",
       "    <tr>\n",
       "      <th>189303</th>\n",
       "      <td>1805</td>\n",
       "      <td>2018-06-01 21:19:38.235</td>\n",
       "      <td>2018-06-01 21:49:44.0190</td>\n",
       "      <td>254.0</td>\n",
       "      <td>Vine St at Shattuck Ave</td>\n",
       "      <td>37.880222</td>\n",
       "      <td>-122.269592</td>\n",
       "      <td>249.0</td>\n",
       "      <td>Russell St at College Ave</td>\n",
       "      <td>37.858473</td>\n",
       "      <td>-122.253253</td>\n",
       "      <td>3561</td>\n",
       "      <td>Subscriber</td>\n",
       "      <td>No</td>\n",
       "      <td>2</td>\n",
       "      <td>June</td>\n",
       "      <td>6</td>\n",
       "      <td>Fri</td>\n",
       "      <td>1</td>\n",
       "      <td>21</td>\n",
       "    </tr>\n",
       "    <tr>\n",
       "      <th>21599</th>\n",
       "      <td>1613</td>\n",
       "      <td>2018-06-27 17:59:45.461</td>\n",
       "      <td>2018-06-27 18:26:38.8020</td>\n",
       "      <td>6.0</td>\n",
       "      <td>The Embarcadero at Sansome St</td>\n",
       "      <td>37.804770</td>\n",
       "      <td>-122.403234</td>\n",
       "      <td>120.0</td>\n",
       "      <td>Mission Dolores Park</td>\n",
       "      <td>37.761420</td>\n",
       "      <td>-122.426435</td>\n",
       "      <td>3794</td>\n",
       "      <td>Subscriber</td>\n",
       "      <td>No</td>\n",
       "      <td>5</td>\n",
       "      <td>June</td>\n",
       "      <td>6</td>\n",
       "      <td>Wed</td>\n",
       "      <td>27</td>\n",
       "      <td>17</td>\n",
       "    </tr>\n",
       "    <tr>\n",
       "      <th>155721</th>\n",
       "      <td>499</td>\n",
       "      <td>2018-06-07 08:46:33.213</td>\n",
       "      <td>2018-06-07 08:54:52.7380</td>\n",
       "      <td>305.0</td>\n",
       "      <td>Ryland Park</td>\n",
       "      <td>37.342725</td>\n",
       "      <td>-121.895617</td>\n",
       "      <td>280.0</td>\n",
       "      <td>San Fernando at 7th St</td>\n",
       "      <td>37.337246</td>\n",
       "      <td>-121.883074</td>\n",
       "      <td>623</td>\n",
       "      <td>Subscriber</td>\n",
       "      <td>Yes</td>\n",
       "      <td>1</td>\n",
       "      <td>June</td>\n",
       "      <td>6</td>\n",
       "      <td>Thu</td>\n",
       "      <td>7</td>\n",
       "      <td>8</td>\n",
       "    </tr>\n",
       "    <tr>\n",
       "      <th>174497</th>\n",
       "      <td>239</td>\n",
       "      <td>2018-06-04 17:54:07.540</td>\n",
       "      <td>2018-06-04 17:58:07.3370</td>\n",
       "      <td>314.0</td>\n",
       "      <td>Santa Clara St at Almaden Blvd</td>\n",
       "      <td>37.333988</td>\n",
       "      <td>-121.894902</td>\n",
       "      <td>309.0</td>\n",
       "      <td>San Jose City Hall</td>\n",
       "      <td>37.337391</td>\n",
       "      <td>-121.886995</td>\n",
       "      <td>1915</td>\n",
       "      <td>Subscriber</td>\n",
       "      <td>No</td>\n",
       "      <td>0</td>\n",
       "      <td>June</td>\n",
       "      <td>6</td>\n",
       "      <td>Mon</td>\n",
       "      <td>4</td>\n",
       "      <td>17</td>\n",
       "    </tr>\n",
       "    <tr>\n",
       "      <th>61034</th>\n",
       "      <td>7171</td>\n",
       "      <td>2018-06-21 18:16:32.451</td>\n",
       "      <td>2018-06-21 20:16:03.9810</td>\n",
       "      <td>14.0</td>\n",
       "      <td>Clay St at Battery St</td>\n",
       "      <td>37.795001</td>\n",
       "      <td>-122.399970</td>\n",
       "      <td>33.0</td>\n",
       "      <td>Golden Gate Ave at Hyde St</td>\n",
       "      <td>37.781650</td>\n",
       "      <td>-122.415408</td>\n",
       "      <td>1588</td>\n",
       "      <td>Customer</td>\n",
       "      <td>No</td>\n",
       "      <td>2</td>\n",
       "      <td>June</td>\n",
       "      <td>6</td>\n",
       "      <td>Thu</td>\n",
       "      <td>21</td>\n",
       "      <td>18</td>\n",
       "    </tr>\n",
       "    <tr>\n",
       "      <th>91515</th>\n",
       "      <td>328</td>\n",
       "      <td>2018-06-17 17:14:31.454</td>\n",
       "      <td>2018-06-17 17:19:59.6120</td>\n",
       "      <td>133.0</td>\n",
       "      <td>Valencia St at 22nd St</td>\n",
       "      <td>37.755213</td>\n",
       "      <td>-122.420975</td>\n",
       "      <td>109.0</td>\n",
       "      <td>17th St at Valencia St</td>\n",
       "      <td>37.763316</td>\n",
       "      <td>-122.421904</td>\n",
       "      <td>1527</td>\n",
       "      <td>Subscriber</td>\n",
       "      <td>No</td>\n",
       "      <td>0</td>\n",
       "      <td>June</td>\n",
       "      <td>6</td>\n",
       "      <td>Sun</td>\n",
       "      <td>17</td>\n",
       "      <td>17</td>\n",
       "    </tr>\n",
       "  </tbody>\n",
       "</table>\n",
       "</div>"
      ],
      "text/plain": [
       "        duration_sec              start_time                  end_time  \\\n",
       "94123            539 2018-06-16 21:58:15.025  2018-06-16 22:07:14.5050   \n",
       "185520           623 2018-06-02 17:30:24.147  2018-06-02 17:40:47.9010   \n",
       "39499            385 2018-06-25 15:58:18.498  2018-06-25 16:04:43.9200   \n",
       "17084           1207 2018-06-28 10:33:19.018  2018-06-28 10:53:26.8320   \n",
       "189303          1805 2018-06-01 21:19:38.235  2018-06-01 21:49:44.0190   \n",
       "21599           1613 2018-06-27 17:59:45.461  2018-06-27 18:26:38.8020   \n",
       "155721           499 2018-06-07 08:46:33.213  2018-06-07 08:54:52.7380   \n",
       "174497           239 2018-06-04 17:54:07.540  2018-06-04 17:58:07.3370   \n",
       "61034           7171 2018-06-21 18:16:32.451  2018-06-21 20:16:03.9810   \n",
       "91515            328 2018-06-17 17:14:31.454  2018-06-17 17:19:59.6120   \n",
       "\n",
       "        start_station_id                                start_station_name  \\\n",
       "94123               92.0                             Mission Bay Kids Park   \n",
       "185520               3.0      Powell St BART Station (Market St at 4th St)   \n",
       "39499              324.0               Union Square (Powell St at Post St)   \n",
       "17084               17.0  Embarcadero BART Station (Beale St at Market St)   \n",
       "189303             254.0                           Vine St at Shattuck Ave   \n",
       "21599                6.0                     The Embarcadero at Sansome St   \n",
       "155721             305.0                                       Ryland Park   \n",
       "174497             314.0                    Santa Clara St at Almaden Blvd   \n",
       "61034               14.0                             Clay St at Battery St   \n",
       "91515              133.0                            Valencia St at 22nd St   \n",
       "\n",
       "        start_station_latitude  start_station_longitude  end_station_id  \\\n",
       "94123                37.772301              -122.393027            78.0   \n",
       "185520               37.786375              -122.404904            75.0   \n",
       "39499                37.788300              -122.408531           324.0   \n",
       "17084                37.792251              -122.397086            92.0   \n",
       "189303               37.880222              -122.269592           249.0   \n",
       "21599                37.804770              -122.403234           120.0   \n",
       "155721               37.342725              -121.895617           280.0   \n",
       "174497               37.333988              -121.894902           309.0   \n",
       "61034                37.795001              -122.399970            33.0   \n",
       "91515                37.755213              -122.420975           109.0   \n",
       "\n",
       "                           end_station_name  end_station_latitude  \\\n",
       "94123                   Folsom St at 9th St             37.773717   \n",
       "185520             Market St at Franklin St             37.773793   \n",
       "39499   Union Square (Powell St at Post St)             37.788300   \n",
       "17084                 Mission Bay Kids Park             37.772301   \n",
       "189303            Russell St at College Ave             37.858473   \n",
       "21599                  Mission Dolores Park             37.761420   \n",
       "155721               San Fernando at 7th St             37.337246   \n",
       "174497                   San Jose City Hall             37.337391   \n",
       "61034            Golden Gate Ave at Hyde St             37.781650   \n",
       "91515                17th St at Valencia St             37.763316   \n",
       "\n",
       "        end_station_longitude  bike_id   user_type bike_share_for_all_trip  \\\n",
       "94123             -122.411647     3846  Subscriber                      No   \n",
       "185520            -122.421239     4003  Subscriber                      No   \n",
       "39499             -122.408531     3796  Subscriber                      No   \n",
       "17084             -122.393027      750  Subscriber                      No   \n",
       "189303            -122.253253     3561  Subscriber                      No   \n",
       "21599             -122.426435     3794  Subscriber                      No   \n",
       "155721            -121.883074      623  Subscriber                     Yes   \n",
       "174497            -121.886995     1915  Subscriber                      No   \n",
       "61034             -122.415408     1588    Customer                      No   \n",
       "91515             -122.421904     1527  Subscriber                      No   \n",
       "\n",
       "        distance start_time_month  start_time_month_num start_time_weekday  \\\n",
       "94123          1             June                     6                Sat   \n",
       "185520         2             June                     6                Sat   \n",
       "39499          0             June                     6                Mon   \n",
       "17084          2             June                     6                Thu   \n",
       "189303         2             June                     6                Fri   \n",
       "21599          5             June                     6                Wed   \n",
       "155721         1             June                     6                Thu   \n",
       "174497         0             June                     6                Mon   \n",
       "61034          2             June                     6                Thu   \n",
       "91515          0             June                     6                Sun   \n",
       "\n",
       "        start_time_weekday_num  start_time_hour  \n",
       "94123                       16               21  \n",
       "185520                       2               17  \n",
       "39499                       25               15  \n",
       "17084                       28               10  \n",
       "189303                       1               21  \n",
       "21599                       27               17  \n",
       "155721                       7                8  \n",
       "174497                       4               17  \n",
       "61034                       21               18  \n",
       "91515                       17               17  "
      ]
     },
     "execution_count": 172,
     "metadata": {},
     "output_type": "execute_result"
    }
   ],
   "source": [
    "#check dataset using sample\n",
    "df_clean.sample(10)"
   ]
  },
  {
   "cell_type": "markdown",
   "metadata": {},
   "source": [
    "<a id='intro'></a>\n",
    "## Univariate Exploration"
   ]
  },
  {
   "cell_type": "markdown",
   "metadata": {},
   "source": [
    "Question:What is the average trip durtion and what is the highiest and the lowest duration?."
   ]
  },
  {
   "cell_type": "code",
   "execution_count": 173,
   "metadata": {},
   "outputs": [
    {
     "data": {
      "image/png": "[encoded data removed]",
      "text/plain": [
       "<Figure size 432x288 with 1 Axes>"
      ]
     },
     "metadata": {
      "needs_background": "light"
     },
     "output_type": "display_data"
    }
   ],
   "source": [
    "#Determine the range of th x axes\n",
    "bins = np.arange( 0, 8600,10)\n",
    "#determine the values of the data and x axes \n",
    "plt.hist(data = df_clean, x = 'duration_sec', bins = bins);\n",
    "#Determine Label for x and y exes \n",
    "plt.xlabel('Soconds')\n",
    "plt.ylabel('Trips');\n",
    "\n",
    "#Determine the title \n",
    "plt.suptitle('Ford GoBike Trips Duration', y=1.05, fontsize=16);"
   ]
  },
  {
   "cell_type": "code",
   "execution_count": 174,
   "metadata": {},
   "outputs": [
    {
     "data": {
      "text/plain": [
       "count    195968.000000\n",
       "mean        907.748439\n",
       "std        2642.666562\n",
       "min          61.000000\n",
       "25%         351.000000\n",
       "50%         564.000000\n",
       "75%         896.000000\n",
       "max       85278.000000\n",
       "Name: duration_sec, dtype: float64"
      ]
     },
     "execution_count": 174,
     "metadata": {},
     "output_type": "execute_result"
    }
   ],
   "source": [
    "df_clean['duration_sec'].describe()"
   ]
  },
  {
   "cell_type": "markdown",
   "metadata": {},
   "source": [
    "Opservation:Most Trip take about 1000 second"
   ]
  },
  {
   "cell_type": "markdown",
   "metadata": {},
   "source": [
    "Question:What is the average Distance durtion and what is the lognest and the shortest Distance ?."
   ]
  },
  {
   "cell_type": "code",
   "execution_count": 175,
   "metadata": {},
   "outputs": [
    {
     "data": {
      "image/png": "[encoded data removed]",
      "text/plain": [
       "<Figure size 432x288 with 1 Axes>"
      ]
     },
     "metadata": {
      "needs_background": "light"
     },
     "output_type": "display_data"
    }
   ],
   "source": [
    "#Determine the range of the x axes\n",
    "bin_edges = np.arange(0, 20, 1)\n",
    "#Determine the values of thedata and the x axes\n",
    "plt.hist(data = df_clean, x = 'distance', bins = bin_edges);\n",
    "#Determine the labels of the y and  x axes\n",
    "plt.xlabel('KiloMeter')\n",
    "plt.ylabel('Trips');\n",
    "#Determine the title \n",
    "plt.suptitle('Ford GoBike Trips Distance', y=1.05, fontsize=16);"
   ]
  },
  {
   "cell_type": "code",
   "execution_count": 176,
   "metadata": {},
   "outputs": [
    {
     "data": {
      "text/plain": [
       "count    195968.000000\n",
       "mean          1.085034\n",
       "std           1.065518\n",
       "min           0.000000\n",
       "25%           0.000000\n",
       "50%           1.000000\n",
       "75%           2.000000\n",
       "max          14.000000\n",
       "Name: distance, dtype: float64"
      ]
     },
     "execution_count": 176,
     "metadata": {},
     "output_type": "execute_result"
    }
   ],
   "source": [
    "df_clean['distance'].describe()"
   ]
  },
  {
   "cell_type": "markdown",
   "metadata": {},
   "source": [
    "Opservation:Most Trip take about 1 Km"
   ]
  },
  {
   "cell_type": "markdown",
   "metadata": {},
   "source": [
    "Question:What is the day of the week with the most bike trips and what is the day with the lowest?."
   ]
  },
  {
   "cell_type": "code",
   "execution_count": 177,
   "metadata": {},
   "outputs": [
    {
     "data": {
      "image/png": "[encoded data removed]",
      "text/plain": [
       "<Figure size 360x360 with 1 Axes>"
      ]
     },
     "metadata": {
      "needs_background": "light"
     },
     "output_type": "display_data"
    }
   ],
   "source": [
    "# Determine data values and x axes \n",
    "plt = sb.catplot(data=df_clean, x='start_time_weekday', kind='count')\n",
    "\n",
    "#Determine the title \n",
    "plt.fig.suptitle('Ford GoBike Usage by day of the week', y=1.05);\n",
    "plt.set_xticklabels(rotation=75);"
   ]
  },
  {
   "cell_type": "code",
   "execution_count": 178,
   "metadata": {},
   "outputs": [
    {
     "data": {
      "text/plain": [
       "Fri    35717\n",
       "Tue    31433\n",
       "Thu    30822\n",
       "Wed    30539\n",
       "Mon    29622\n",
       "Sat    21718\n",
       "Sun    16117\n",
       "Name: start_time_weekday, dtype: int64"
      ]
     },
     "execution_count": 178,
     "metadata": {},
     "output_type": "execute_result"
    }
   ],
   "source": [
    " df_clean['start_time_weekday'].value_counts()"
   ]
  },
  {
   "cell_type": "markdown",
   "metadata": {},
   "source": [
    "Opservation:Friday Has the largest number od trips while sunday has the lowest number"
   ]
  },
  {
   "cell_type": "markdown",
   "metadata": {},
   "source": [
    "Question:What is the day of the month with the most bike trips and what is the day with the lowest?."
   ]
  },
  {
   "cell_type": "code",
   "execution_count": 179,
   "metadata": {},
   "outputs": [
    {
     "data": {
      "image/png": "[encoded data removed]",
      "text/plain": [
       "<Figure size 360x360 with 1 Axes>"
      ]
     },
     "metadata": {
      "needs_background": "light"
     },
     "output_type": "display_data"
    }
   ],
   "source": [
    "# Determine data values and x axes \n",
    "graph = sb.catplot(data=df_clean, x='start_time_hour', kind='count')\n",
    "#Determine the title \n",
    "graph.fig.suptitle('Ford GoBike Usage by Day of the month', y=1.05, fontsize=16);\n",
    "graph.set_xticklabels(rotation=75);"
   ]
  },
  {
   "cell_type": "code",
   "execution_count": 180,
   "metadata": {},
   "outputs": [
    {
     "data": {
      "text/plain": [
       "17    23200\n",
       "8     20761\n",
       "18    18235\n",
       "9     16314\n",
       "16    14668\n",
       "19    11807\n",
       "7     10614\n",
       "15    10340\n",
       "12     9704\n",
       "13     9227\n",
       "10     8699\n",
       "14     8662\n",
       "11     8166\n",
       "20     7811\n",
       "21     5293\n",
       "6      3660\n",
       "22     3361\n",
       "23     2021\n",
       "5      1061\n",
       "0       982\n",
       "1       561\n",
       "2       345\n",
       "4       264\n",
       "3       212\n",
       "Name: start_time_hour, dtype: int64"
      ]
     },
     "execution_count": 180,
     "metadata": {},
     "output_type": "execute_result"
    }
   ],
   "source": [
    " df_clean['start_time_hour'].value_counts()"
   ]
  },
  {
   "cell_type": "markdown",
   "metadata": {},
   "source": [
    "Opservation:17 Has the largest number od trips while 3 and 4 has the lowest number of trips. "
   ]
  },
  {
   "cell_type": "markdown",
   "metadata": {},
   "source": [
    "<a id='intro'></a>\n",
    "## Bivariate Exploration"
   ]
  },
  {
   "cell_type": "markdown",
   "metadata": {},
   "source": [
    "Question:Which user type takes the most trips ?."
   ]
  },
  {
   "cell_type": "code",
   "execution_count": 196,
   "metadata": {},
   "outputs": [
    {
     "data": {
      "image/png": "[encoded data removed]",
      "text/plain": [
       "<Figure size 432x288 with 1 Axes>"
      ]
     },
     "metadata": {
      "needs_background": "light"
     },
     "output_type": "display_data"
    }
   ],
   "source": [
    "#Determine the value of the data and the title \n",
    "plt = sb.countplot(data = df_clean, x = \"user_type\", order = df_clean.user_type.value_counts().index).set_title('User Type Number of Trips');\n",
    "\n"
   ]
  },
  {
   "cell_type": "markdown",
   "metadata": {},
   "source": [
    "Opservation:Subscriber has higher number of trips "
   ]
  },
  {
   "cell_type": "markdown",
   "metadata": {},
   "source": [
    "Question:Dose Sharing Buke option is more popular ?."
   ]
  },
  {
   "cell_type": "code",
   "execution_count": 200,
   "metadata": {},
   "outputs": [
    {
     "data": {
      "image/png": "[encoded data removed]",
      "text/plain": [
       "<Figure size 432x288 with 1 Axes>"
      ]
     },
     "metadata": {
      "needs_background": "light"
     },
     "output_type": "display_data"
    }
   ],
   "source": [
    "#Determine the value of the data and the title \n",
    "graph = sb.countplot(data = df_clean, x = \"bike_share_for_all_trip\", order = df_clean.bike_share_for_all_trip.value_counts().index).set_title('Trips with Bike Share');\n"
   ]
  },
  {
   "cell_type": "markdown",
   "metadata": {},
   "source": [
    "Opservation:Bike sharing option is not popular.\n"
   ]
  },
  {
   "cell_type": "markdown",
   "metadata": {},
   "source": [
    "Question:Whitch user type has a longer distance trips? "
   ]
  },
  {
   "cell_type": "code",
   "execution_count": 206,
   "metadata": {},
   "outputs": [
    {
     "data": {
      "image/png": "[encoded data removed]",
      "text/plain": [
       "<Figure size 432x288 with 1 Axes>"
      ]
     },
     "metadata": {
      "needs_background": "light"
     },
     "output_type": "display_data"
    }
   ],
   "source": [
    "#Determine the value of the data and the title \n",
    "sns.violinplot(data = df_clean.query(\"distance <= 20\"),x = 'user_type',y='distance',color = sns.color_palette()[0],inner=None).set_title('Distance taken by customer type');\n"
   ]
  },
  {
   "cell_type": "markdown",
   "metadata": {},
   "source": [
    "Opservation:a lot of Subscriber trips a longer than customer trips.\n"
   ]
  },
  {
   "cell_type": "markdown",
   "metadata": {},
   "source": [
    "Question:Whitch user type take a longer type? "
   ]
  },
  {
   "cell_type": "code",
   "execution_count": 209,
   "metadata": {},
   "outputs": [
    {
     "data": {
      "image/png": "[encoded data removed]",
      "text/plain": [
       "<Figure size 432x288 with 1 Axes>"
      ]
     },
     "metadata": {
      "needs_background": "light"
     },
     "output_type": "display_data"
    }
   ],
   "source": [
    "#Determine the value of the data and the title \n",
    "sns.violinplot(data = df_clean.query(\"duration_sec <= 12000\"),x = 'user_type',y='duration_sec',color = sns.color_palette()[0],inner=None).set_title('Duration taken by customer type');"
   ]
  },
  {
   "cell_type": "markdown",
   "metadata": {},
   "source": [
    "Opservation:a lot of Customer trips has a longer duration than customer trip.\n"
   ]
  },
  {
   "cell_type": "markdown",
   "metadata": {},
   "source": [
    "\n",
    "<a id='intro'></a>\n",
    "## Multivariate Exploration"
   ]
  },
  {
   "cell_type": "markdown",
   "metadata": {},
   "source": [
    "Question: What are the relationship between user_type, duration and bike share option"
   ]
  },
  {
   "cell_type": "code",
   "execution_count": 224,
   "metadata": {},
   "outputs": [
    {
     "data": {
      "image/png": "[encoded data removed]",
      "text/plain": [
       "<Figure size 432x288 with 2 Axes>"
      ]
     },
     "metadata": {
      "needs_background": "light"
     },
     "output_type": "display_data"
    }
   ],
   "source": [
    "#Createing multivalue exploration \n",
    "cat_means = df.groupby(['bike_share_for_all_trip', 'user_type']).mean()['duration_sec']\n",
    "cat_means = cat_means.reset_index(name = 'duration_avg')\n",
    "cat_means = cat_means.pivot(index = 'user_type', columns = 'bike_share_for_all_trip',\n",
    "                            values = 'duration_avg')\n",
    "sns.heatmap(cat_means, annot = True, fmt = '.3f',\n",
    "           cbar_kws = {'label' : 'mean(duration_avg)'});"
   ]
  },
  {
   "cell_type": "markdown",
   "metadata": {},
   "source": [
    "Opservation: Customers with no bake share option took the most time "
   ]
  },
  {
   "cell_type": "markdown",
   "metadata": {},
   "source": [
    "Question: What are the relationship between day of the month, duration and bike share option"
   ]
  },
  {
   "cell_type": "code",
   "execution_count": 219,
   "metadata": {},
   "outputs": [
    {
     "data": {
      "image/png": "[encoded data removed]",
      "text/plain": [
       "<Figure size 720x360 with 3 Axes>"
      ]
     },
     "metadata": {
      "needs_background": "light"
     },
     "output_type": "display_data"
    }
   ],
   "source": [
    "#Createing multivalue exploration \n",
    "xbin = np.arange(1, 32, 1)\n",
    "ybin = np.arange(0, 4500, 500)\n",
    "g = sns.FacetGrid(data = df_clean, col = 'bike_share_for_all_trip',height=5)\n",
    "g.map(plt.hist2d, 'start_time_weekday_num','duration_sec',cmin=0.5,cmap = 'viridis_r',bins=[xbin, ybin]);\n",
    "plt.colorbar();"
   ]
  },
  {
   "cell_type": "markdown",
   "metadata": {},
   "source": [
    "Opservation: day 30 has the most number of trips with less than 500 second in bike option and less 1000 with no bike option "
   ]
  },
  {
   "cell_type": "markdown",
   "metadata": {},
   "source": [
    "Question: What are the relationship between start hour, duration and bike share option"
   ]
  },
  {
   "cell_type": "code",
   "execution_count": 67,
   "metadata": {},
   "outputs": [
    {
     "data": {
      "image/png": "[encoded data removed]",
      "text/plain": [
       "<Figure size 720x360 with 3 Axes>"
      ]
     },
     "metadata": {
      "needs_background": "light"
     },
     "output_type": "display_data"
    }
   ],
   "source": [
    "#Createing multivalue exploration \n",
    "xbin = np.arange(0, 24, 1)\n",
    "ybin = np.arange(0, 4500, 500)\n",
    "g = sns.FacetGrid(data = df_clean, col = 'bike_share_for_all_trip',height=5)\n",
    "g.map(plt.hist2d, 'start_time_hour','duration_sec',cmin=0.5,cmap = 'viridis_r',bins=[xbin, ybin]);\n",
    "plt.colorbar();"
   ]
  },
  {
   "cell_type": "markdown",
   "metadata": {},
   "source": [
    "Opservation: day 18 has the most number of trips with less than 500 second in bike option and less 1000 with no bike option on 9 and 18  "
   ]
  },
  {
   "cell_type": "markdown",
   "metadata": {},
   "source": [
    "Question: What are the relationship between start week day , duration and bike share option"
   ]
  },
  {
   "cell_type": "code",
   "execution_count": 223,
   "metadata": {},
   "outputs": [
    {
     "data": {
      "image/png": "[encoded data removed]",
      "text/plain": [
       "<Figure size 576x432 with 1 Axes>"
      ]
     },
     "metadata": {
      "needs_background": "light"
     },
     "output_type": "display_data"
    }
   ],
   "source": [
    "size = plt.figure(figsize = [8,6]);\n",
    "ax = sb.pointplot(data = df_clean, x = 'start_time_weekday', y = 'duration_sec', hue = 'bike_share_for_all_trip', \n",
    "                 linestyles = '', dodge = 0.4);\n",
    "plt.ylabel('Duration');\n",
    "ax.set_yticklabels([],minor = True);"
   ]
  },
  {
   "cell_type": "markdown",
   "metadata": {},
   "source": [
    "Opservation: On saturday and sunday there is a big duration diffrence between people with bike share option and people without "
   ]
  }
 ],
 "metadata": {
  "kernelspec": {
   "display_name": "Python 3",
   "language": "python",
   "name": "python3"
  },
  "language_info": {
   "codemirror_mode": {
    "name": "ipython",
    "version": 3
   },
   "file_extension": ".py",
   "mimetype": "text/x-python",
   "name": "python",
   "nbconvert_exporter": "python",
   "pygments_lexer": "ipython3",
   "version": "3.7.3"
  }
 },
 "nbformat": 4,
 "nbformat_minor": 2
}
