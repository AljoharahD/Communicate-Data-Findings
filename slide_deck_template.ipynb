{
 "cells": [
  {
   "cell_type": "markdown",
   "metadata": {
    "slideshow": {
     "slide_type": "slide"
    }
   },
   "source": [
    "# (Ford Go Bike Dataset Anaysis)\n",
    "## by (Aljoharah AlDamigh)"
   ]
  },
  {
   "cell_type": "markdown",
   "metadata": {
    "slideshow": {
     "slide_type": "slide"
    }
   },
   "source": [
    "## Investigation Overview\n",
    "\n",
    "This ducoment include an investigation of the Ford GoBike Dataset I was intrestd in knowing what are the common behaviors and characteristics of thier client.\n",
    "\n",
    "## Dataset Overview\n",
    "\n",
    "Ford Go Bike is a bike sharing system located the Bay Area. it was interduce in 2013 in san francisco and san jose and now its expanded to cover the east bay as well.the bikes are avaliable 24 hour all year long, the users can take the bike form one station and return it in a nother station. \n"
   ]
  },
  {
   "cell_type": "code",
   "execution_count": 16,
   "metadata": {
    "slideshow": {
     "slide_type": "skip"
    }
   },
   "outputs": [],
   "source": [
    "# import all packages and set plots to be embedded inline\n",
    "import numpy as np\n",
    "import pandas as pd\n",
    "import matplotlib.pyplot as plt\n",
    "import seaborn as sb\n",
    "import seaborn as sns\n",
    "\n",
    "%matplotlib inline\n",
    "\n",
    "# suppress warnings from final output\n",
    "import warnings\n",
    "warnings.simplefilter(\"ignore\")"
   ]
  },
  {
   "cell_type": "code",
   "execution_count": 10,
   "metadata": {
    "slideshow": {
     "slide_type": "skip"
    }
   },
   "outputs": [
    {
     "data": {
      "text/html": [
       "<div>\n",
       "<style scoped>\n",
       "    .dataframe tbody tr th:only-of-type {\n",
       "        vertical-align: middle;\n",
       "    }\n",
       "\n",
       "    .dataframe tbody tr th {\n",
       "        vertical-align: top;\n",
       "    }\n",
       "\n",
       "    .dataframe thead th {\n",
       "        text-align: right;\n",
       "    }\n",
       "</style>\n",
       "<table border=\"1\" class=\"dataframe\">\n",
       "  <thead>\n",
       "    <tr style=\"text-align: right;\">\n",
       "      <th></th>\n",
       "      <th>duration_sec</th>\n",
       "      <th>start_time</th>\n",
       "      <th>end_time</th>\n",
       "      <th>start_station_id</th>\n",
       "      <th>start_station_name</th>\n",
       "      <th>start_station_latitude</th>\n",
       "      <th>start_station_longitude</th>\n",
       "      <th>end_station_id</th>\n",
       "      <th>end_station_name</th>\n",
       "      <th>end_station_latitude</th>\n",
       "      <th>end_station_longitude</th>\n",
       "      <th>bike_id</th>\n",
       "      <th>user_type</th>\n",
       "      <th>bike_share_for_all_trip</th>\n",
       "    </tr>\n",
       "  </thead>\n",
       "  <tbody>\n",
       "    <tr>\n",
       "      <th>111441</th>\n",
       "      <td>507</td>\n",
       "      <td>2018-06-14 08:38:35.7540</td>\n",
       "      <td>2018-06-14 08:47:03.3530</td>\n",
       "      <td>11.0</td>\n",
       "      <td>Davis St at Jackson St</td>\n",
       "      <td>37.797280</td>\n",
       "      <td>-122.398436</td>\n",
       "      <td>3.0</td>\n",
       "      <td>Powell St BART Station (Market St at 4th St)</td>\n",
       "      <td>37.786375</td>\n",
       "      <td>-122.404904</td>\n",
       "      <td>4015</td>\n",
       "      <td>Subscriber</td>\n",
       "      <td>No</td>\n",
       "    </tr>\n",
       "    <tr>\n",
       "      <th>114199</th>\n",
       "      <td>330</td>\n",
       "      <td>2018-06-13 18:46:06.6090</td>\n",
       "      <td>2018-06-13 18:51:37.5550</td>\n",
       "      <td>102.0</td>\n",
       "      <td>Irwin St at 8th St</td>\n",
       "      <td>37.766883</td>\n",
       "      <td>-122.399579</td>\n",
       "      <td>89.0</td>\n",
       "      <td>Division St at Potrero Ave</td>\n",
       "      <td>37.769218</td>\n",
       "      <td>-122.407646</td>\n",
       "      <td>373</td>\n",
       "      <td>Subscriber</td>\n",
       "      <td>No</td>\n",
       "    </tr>\n",
       "    <tr>\n",
       "      <th>19218</th>\n",
       "      <td>732</td>\n",
       "      <td>2018-06-28 07:46:08.7730</td>\n",
       "      <td>2018-06-28 07:58:21.4390</td>\n",
       "      <td>123.0</td>\n",
       "      <td>Folsom St at 19th St</td>\n",
       "      <td>37.760594</td>\n",
       "      <td>-122.414817</td>\n",
       "      <td>37.0</td>\n",
       "      <td>2nd St at Folsom St</td>\n",
       "      <td>37.785000</td>\n",
       "      <td>-122.395936</td>\n",
       "      <td>2588</td>\n",
       "      <td>Subscriber</td>\n",
       "      <td>No</td>\n",
       "    </tr>\n",
       "    <tr>\n",
       "      <th>28822</th>\n",
       "      <td>896</td>\n",
       "      <td>2018-06-26 19:04:42.5320</td>\n",
       "      <td>2018-06-26 19:19:39.2620</td>\n",
       "      <td>31.0</td>\n",
       "      <td>Raymond Kimbell Playground</td>\n",
       "      <td>37.783813</td>\n",
       "      <td>-122.434559</td>\n",
       "      <td>70.0</td>\n",
       "      <td>Central Ave at Fell St</td>\n",
       "      <td>37.773311</td>\n",
       "      <td>-122.444293</td>\n",
       "      <td>213</td>\n",
       "      <td>Subscriber</td>\n",
       "      <td>No</td>\n",
       "    </tr>\n",
       "    <tr>\n",
       "      <th>194676</th>\n",
       "      <td>130</td>\n",
       "      <td>2018-06-01 09:01:21.8460</td>\n",
       "      <td>2018-06-01 09:03:32.1140</td>\n",
       "      <td>88.0</td>\n",
       "      <td>11th St at Bryant St</td>\n",
       "      <td>37.770030</td>\n",
       "      <td>-122.411726</td>\n",
       "      <td>77.0</td>\n",
       "      <td>11th St at Natoma St</td>\n",
       "      <td>37.773507</td>\n",
       "      <td>-122.416040</td>\n",
       "      <td>2043</td>\n",
       "      <td>Subscriber</td>\n",
       "      <td>No</td>\n",
       "    </tr>\n",
       "  </tbody>\n",
       "</table>\n",
       "</div>"
      ],
      "text/plain": [
       "        duration_sec                start_time                  end_time  \\\n",
       "111441           507  2018-06-14 08:38:35.7540  2018-06-14 08:47:03.3530   \n",
       "114199           330  2018-06-13 18:46:06.6090  2018-06-13 18:51:37.5550   \n",
       "19218            732  2018-06-28 07:46:08.7730  2018-06-28 07:58:21.4390   \n",
       "28822            896  2018-06-26 19:04:42.5320  2018-06-26 19:19:39.2620   \n",
       "194676           130  2018-06-01 09:01:21.8460  2018-06-01 09:03:32.1140   \n",
       "\n",
       "        start_station_id          start_station_name  start_station_latitude  \\\n",
       "111441              11.0      Davis St at Jackson St               37.797280   \n",
       "114199             102.0          Irwin St at 8th St               37.766883   \n",
       "19218              123.0        Folsom St at 19th St               37.760594   \n",
       "28822               31.0  Raymond Kimbell Playground               37.783813   \n",
       "194676              88.0        11th St at Bryant St               37.770030   \n",
       "\n",
       "        start_station_longitude  end_station_id  \\\n",
       "111441              -122.398436             3.0   \n",
       "114199              -122.399579            89.0   \n",
       "19218               -122.414817            37.0   \n",
       "28822               -122.434559            70.0   \n",
       "194676              -122.411726            77.0   \n",
       "\n",
       "                                    end_station_name  end_station_latitude  \\\n",
       "111441  Powell St BART Station (Market St at 4th St)             37.786375   \n",
       "114199                    Division St at Potrero Ave             37.769218   \n",
       "19218                            2nd St at Folsom St             37.785000   \n",
       "28822                         Central Ave at Fell St             37.773311   \n",
       "194676                          11th St at Natoma St             37.773507   \n",
       "\n",
       "        end_station_longitude  bike_id   user_type bike_share_for_all_trip  \n",
       "111441            -122.404904     4015  Subscriber                      No  \n",
       "114199            -122.407646      373  Subscriber                      No  \n",
       "19218             -122.395936     2588  Subscriber                      No  \n",
       "28822             -122.444293      213  Subscriber                      No  \n",
       "194676            -122.416040     2043  Subscriber                      No  "
      ]
     },
     "execution_count": 10,
     "metadata": {},
     "output_type": "execute_result"
    }
   ],
   "source": [
    "# load in the dataset into a pandas dataframe\n",
    "df = pd.read_csv('201806-fordgobike-tripdata.csv')\n",
    "df.sample(5)"
   ]
  },
  {
   "cell_type": "markdown",
   "metadata": {
    "slideshow": {
     "slide_type": "notes"
    }
   },
   "source": [
    "> Note that the above cells have been set as \"Skip\"-type slides. That means\n",
    "that when the notebook is rendered as http slides, those cells won't show up."
   ]
  },
  {
   "cell_type": "markdown",
   "metadata": {
    "slideshow": {
     "slide_type": "slide"
    }
   },
   "source": [
    "## ( Go Ford Trips Duration)\n",
    "\n",
    "The data seen in the figure below  hasa  right skew issue it has wide range from 60 to 8600 with the mean of 1000."
   ]
  },
  {
   "cell_type": "code",
   "execution_count": 8,
   "metadata": {
    "slideshow": {
     "slide_type": "subslide"
    }
   },
   "outputs": [
    {
     "data": {
      "image/png": "[encoded data removed]",
      "text/plain": [
       "<Figure size 432x288 with 1 Axes>"
      ]
     },
     "metadata": {
      "needs_background": "light"
     },
     "output_type": "display_data"
    }
   ],
   "source": [
    "#Determine the range of th x axes\n",
    "bins = np.arange( 0, 8600,10)\n",
    "#determine the values of the data and x axes \n",
    "plt.hist(data = df, x = 'duration_sec', bins = bins);\n",
    "#Determine Label for x and y exes \n",
    "plt.xlabel('Soconds')\n",
    "plt.ylabel('Trips');\n",
    "\n",
    "#Determine the title \n",
    "plt.suptitle('Ford GoBike Trips Duration', y=1.05, fontsize=16);"
   ]
  },
  {
   "cell_type": "markdown",
   "metadata": {
    "collapsed": true,
    "slideshow": {
     "slide_type": "slide"
    }
   },
   "source": [
    "## (Most common users)\n",
    "\n",
    "The number of subscriber is almost 4 times larger thsn the number of regular cutomers "
   ]
  },
  {
   "cell_type": "code",
   "execution_count": 14,
   "metadata": {
    "slideshow": {
     "slide_type": "subslide"
    }
   },
   "outputs": [
    {
     "data": {
      "image/png": "[encoded data removed]",
      "text/plain": [
       "<Figure size 432x288 with 1 Axes>"
      ]
     },
     "metadata": {
      "needs_background": "light"
     },
     "output_type": "display_data"
    }
   ],
   "source": [
    "#Determine the value of the data and the title \n",
    "plt = sb.countplot(data = df, x = \"user_type\", order = df.user_type.value_counts().index).set_title('Number User Type ');\n",
    "\n"
   ]
  },
  {
   "cell_type": "markdown",
   "metadata": {
    "slideshow": {
     "slide_type": "slide"
    }
   },
   "source": [
    "## Duration  taken by diffrent used type with diffrent bike share option\n",
    "\n",
    "Customer without bike sharing took the longer time followed by subscriber with bike sharing option and lastly subscriber without sharing option "
   ]
  },
  {
   "cell_type": "code",
   "execution_count": 19,
   "metadata": {
    "collapsed": true,
    "slideshow": {
     "slide_type": "subslide"
    }
   },
   "outputs": [
    {
     "data": {
      "image/png": "[encoded data removed]",
      "text/plain": [
       "<Figure size 432x288 with 2 Axes>"
      ]
     },
     "metadata": {
      "needs_background": "light"
     },
     "output_type": "display_data"
    }
   ],
   "source": [
    "#Createing multivalue exploration \n",
    "cat_means = df.groupby(['bike_share_for_all_trip', 'user_type']).mean()['duration_sec']\n",
    "cat_means = cat_means.reset_index(name = 'duration_avg')\n",
    "cat_means = cat_means.pivot(index = 'user_type', columns = 'bike_share_for_all_trip',\n",
    "                            values = 'duration_avg')\n",
    "sns.heatmap(cat_means, annot = True, fmt = '.3f',\n",
    "           cbar_kws = {'label' : 'mean(distance_avg)'});"
   ]
  },
  {
   "cell_type": "code",
   "execution_count": null,
   "metadata": {},
   "outputs": [],
   "source": [
    "! jupyter nbconvert slide_deck_template.ipynb --to slides --post serve --template output_toggle"
   ]
  }
 ],
 "metadata": {
  "celltoolbar": "Slideshow",
  "kernelspec": {
   "display_name": "Python 3",
   "language": "python",
   "name": "python3"
  },
  "language_info": {
   "codemirror_mode": {
    "name": "ipython",
    "version": 3
   },
   "file_extension": ".py",
   "mimetype": "text/x-python",
   "name": "python",
   "nbconvert_exporter": "python",
   "pygments_lexer": "ipython3",
   "version": "3.7.3"
  }
 },
 "nbformat": 4,
 "nbformat_minor": 2
}
